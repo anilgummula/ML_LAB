{
 "cells": [
  {
   "cell_type": "code",
   "execution_count": 1,
   "id": "2647fe33-ed23-4429-bd07-ab0d64fa8023",
   "metadata": {},
   "outputs": [
    {
     "name": "stdout",
     "output_type": "stream",
     "text": [
      "hello world!\n"
     ]
    }
   ],
   "source": [
    "print(\"hello world!\")"
   ]
  },
  {
   "cell_type": "code",
   "execution_count": 3,
   "id": "dfd1cf00-82a8-4c46-a638-d8142e3c0253",
   "metadata": {},
   "outputs": [
    {
     "name": "stdout",
     "output_type": "stream",
     "text": [
      "[10, 20, 30, 40]\n",
      "0    10\n",
      "1    20\n",
      "2    30\n",
      "3    40\n",
      "dtype: int64\n"
     ]
    }
   ],
   "source": [
    "import pandas as pd \n",
    "data = [10, 20, 30, 40] \n",
    "v = pd.Series(data)\n",
    "print(data)\n",
    "print(v) "
   ]
  },
  {
   "cell_type": "code",
   "execution_count": 4,
   "id": "f56f8a37-89d5-4fab-af8f-24df559f499d",
   "metadata": {},
   "outputs": [
    {
     "name": "stdout",
     "output_type": "stream",
     "text": [
      "      Name  Age         City\n",
      "0    Alice   25     New York\n",
      "1      Bob   30  Los Angeles\n",
      "2  Charlie   35      Chicago\n"
     ]
    }
   ],
   "source": [
    "data = { \n",
    "'Name': ['Alice', 'Bob', 'Charlie'], \n",
    "'Age': [25, 30, 35], \n",
    "'City': ['New York', 'Los Angeles', 'Chicago'] \n",
    "} \n",
    "df = pd.DataFrame(data) \n",
    "print(df) "
   ]
  },
  {
   "cell_type": "code",
   "execution_count": 20,
   "id": "15808321-0769-451d-a99d-bd36a8a1f58e",
   "metadata": {},
   "outputs": [
    {
     "name": "stdout",
     "output_type": "stream",
     "text": [
      "   TransactionID TransactionDate  UserID  ProductID  Quantity\n",
      "0              1      2010-08-21     7.0          2         1\n",
      "1              2      2011-05-26     3.0          4         1\n",
      "2              3      2011-06-16     3.0          3         1\n",
      "3              4      2012-08-26     1.0          2         3\n",
      "4              5      2013-06-06     2.0          4         1\n",
      "5              6      2013-12-23     2.0          5         6\n",
      "6              7      2013-12-30     3.0          4         1\n",
      "7              8      2014-04-24     NaN          2         3\n",
      "8              9      2015-04-24     7.0          4         3\n",
      "9             10      2016-05-08     3.0          4         4\n",
      "\n",
      "\n",
      "prints first 5 rows: \n",
      "   TransactionID TransactionDate  UserID  ProductID  Quantity\n",
      "0              1      2010-08-21     7.0          2         1\n",
      "1              2      2011-05-26     3.0          4         1\n",
      "2              3      2011-06-16     3.0          3         1\n",
      "3              4      2012-08-26     1.0          2         3\n",
      "4              5      2013-06-06     2.0          4         1\n",
      "\n",
      " last 5 rows: \n",
      "   TransactionID TransactionDate  UserID  ProductID  Quantity\n",
      "5              6      2013-12-23     2.0          5         6\n",
      "6              7      2013-12-30     3.0          4         1\n",
      "7              8      2014-04-24     NaN          2         3\n",
      "8              9      2015-04-24     7.0          4         3\n",
      "9             10      2016-05-08     3.0          4         4\n",
      "\n",
      "info of data: \n",
      "<class 'pandas.core.frame.DataFrame'>\n",
      "RangeIndex: 10 entries, 0 to 9\n",
      "Data columns (total 5 columns):\n",
      " #   Column           Non-Null Count  Dtype  \n",
      "---  ------           --------------  -----  \n",
      " 0   TransactionID    10 non-null     int64  \n",
      " 1   TransactionDate  10 non-null     object \n",
      " 2   UserID           9 non-null      float64\n",
      " 3   ProductID        10 non-null     int64  \n",
      " 4   Quantity         10 non-null     int64  \n",
      "dtypes: float64(1), int64(3), object(1)\n",
      "memory usage: 532.0+ bytes\n",
      "None\n",
      "\n",
      " decription of the data: \n",
      "       TransactionID    UserID  ProductID   Quantity\n",
      "count       10.00000  9.000000  10.000000  10.000000\n",
      "mean         5.50000  3.444444   3.400000   2.400000\n",
      "std          3.02765  2.127858   1.074968   1.712698\n",
      "min          1.00000  1.000000   2.000000   1.000000\n",
      "25%          3.25000  2.000000   2.250000   1.000000\n",
      "50%          5.50000  3.000000   4.000000   2.000000\n",
      "75%          7.75000  3.000000   4.000000   3.000000\n",
      "max         10.00000  7.000000   5.000000   6.000000\n"
     ]
    }
   ],
   "source": [
    "import pandas as pd\n",
    "df = pd.read_csv(\"transactions.csv\");\n",
    "print(df)\n",
    "\n",
    "print(\"\\n\")\n",
    "print(\"prints first 5 rows: \")\n",
    "print(df.head(5))\n",
    "print(\"\\n last 5 rows: \")\n",
    "print(df.tail(5))\n",
    "\n",
    "print(\"\\ninfo of data: \")\n",
    "print(df.info())\n",
    "print(\"\\n decription of the data: \")\n",
    "print(df.describe())"
   ]
  },
  {
   "cell_type": "code",
   "execution_count": 25,
   "id": "d1208a5d-8592-47ca-904f-3723fdbd5187",
   "metadata": {},
   "outputs": [
    {
     "name": "stdout",
     "output_type": "stream",
     "text": [
      "\n",
      " locating with index: \n",
      "TransactionID               2\n",
      "TransactionDate    2011-05-26\n",
      "UserID                    3.0\n",
      "ProductID                   4\n",
      "Quantity                    1\n",
      "Name: 1, dtype: object\n",
      "\n",
      " accessing single col with name: \n",
      "0    7.0\n",
      "1    3.0\n",
      "2    3.0\n",
      "3    1.0\n",
      "4    2.0\n",
      "5    2.0\n",
      "6    3.0\n",
      "7    NaN\n",
      "8    7.0\n",
      "9    3.0\n",
      "Name: UserID, dtype: float64\n",
      "\n",
      " accessing multiple cols using names: \n",
      "   UserID  ProductID\n",
      "0     7.0          2\n",
      "1     3.0          4\n",
      "2     3.0          3\n",
      "3     1.0          2\n",
      "4     2.0          4\n",
      "5     2.0          5\n",
      "6     3.0          4\n",
      "7     NaN          2\n",
      "8     7.0          4\n",
      "9     3.0          4\n"
     ]
    }
   ],
   "source": [
    "print(\"\\n locating with index: \")\n",
    "print(df.iloc[1])\n",
    "print(\"\\n accessing single col with name: \")\n",
    "print(df[\"UserID\"])\n",
    "print(\"\\n accessing multiple cols using names: \")\n",
    "print(df[[\"UserID\",\"ProductID\"]])"
   ]
  },
  {
   "cell_type": "code",
   "execution_count": 29,
   "id": "9ae5dac5-3cb6-4946-8486-9300b1e1fa8b",
   "metadata": {},
   "outputs": [
    {
     "name": "stdout",
     "output_type": "stream",
     "text": [
      "    Name  Age         City\n",
      "3  Devil   40     New York\n",
      "4   Tony   36  Los Angeles\n",
      "5   Mark   31      Chicago\n"
     ]
    }
   ],
   "source": [
    "data = { \n",
    "'Name': ['Alice', 'Bob', 'Charlie',\"Devil\",\"Tony\",\"Mark\"], \n",
    "'Age': [25, 30, 28,40,36,31], \n",
    "'City': ['New York', 'Los Angeles', 'Chicago','New York', 'Los Angeles', 'Chicago'] \n",
    "} \n",
    "df = pd.DataFrame(data) \n",
    "# print(df)\n",
    "\n",
    "filtered_df = df[df[\"Age\"]>30]\n",
    "print(filtered_df)\n",
    "\n",
    "\n",
    "\n"
   ]
  },
  {
   "cell_type": "code",
   "execution_count": 30,
   "id": "f1df230c-99eb-4a53-bb6a-e4dd906923b9",
   "metadata": {},
   "outputs": [
    {
     "name": "stdout",
     "output_type": "stream",
     "text": [
      "   TransactionID TransactionDate  UserID  ProductID  Quant\n",
      "0              1      2010-08-21     7.0          2      1\n",
      "1              2      2011-05-26     3.0          4      1\n",
      "2              3      2011-06-16     3.0          3      1\n",
      "3              4      2012-08-26     1.0          2      3\n",
      "4              5      2013-06-06     2.0          4      1\n"
     ]
    }
   ],
   "source": [
    "import pandas as pd \n",
    "df = pd.read_csv(\"transactions.csv\") \n",
    "df.rename(columns={\"Quantity\": \"Quant\"}, inplace=True) \n",
    "print(df.head()) "
   ]
  },
  {
   "cell_type": "code",
   "execution_count": 51,
   "id": "0feba83c-fa35-49e7-9d7f-5755e5222b60",
   "metadata": {},
   "outputs": [
    {
     "name": "stdout",
     "output_type": "stream",
     "text": [
      "      Name   Age         City\n",
      "0    Alice  25.0     New York\n",
      "1      Bob  30.0  Los Angeles\n",
      "2  Charlie  28.0      Chicago\n",
      "3    Devil  40.0     New York\n",
      "4     Tony  31.8  Los Angeles\n",
      "5     Mark  36.0      Chicago\n"
     ]
    }
   ],
   "source": [
    "data = { \n",
    "'Name': ['Alice', 'Bob', 'Charlie',\"Devil\",\"Tony\",\"Mark\"], \n",
    "'Age': [25, 30, 28,40,None,36], \n",
    "'City': ['New York', 'Los Angeles', 'Chicago','New York', 'Los Angeles', 'Chicago'] \n",
    "} \n",
    "df = pd.DataFrame(data) \n",
    "# finds missing cols values count\n",
    "# print(df.isnull().sum())\n",
    "\n",
    "# replace missing values in age col with mean age\n",
    "df['Age'].fillna(df['Age'].mean(), inplace=True)\n",
    "print(df)\n",
    "\n",
    " # Drop rows with missing values \n",
    "# df.dropna(inplace=True)\n",
    "# print(df)"
   ]
  },
  {
   "cell_type": "code",
   "execution_count": null,
   "id": "813d527d-a292-4d88-befd-c97a96dd969a",
   "metadata": {},
   "outputs": [],
   "source": []
  }
 ],
 "metadata": {
  "kernelspec": {
   "display_name": "Python 3 (ipykernel)",
   "language": "python",
   "name": "python3"
  },
  "language_info": {
   "codemirror_mode": {
    "name": "ipython",
    "version": 3
   },
   "file_extension": ".py",
   "mimetype": "text/x-python",
   "name": "python",
   "nbconvert_exporter": "python",
   "pygments_lexer": "ipython3",
   "version": "3.11.7"
  }
 },
 "nbformat": 4,
 "nbformat_minor": 5
}
