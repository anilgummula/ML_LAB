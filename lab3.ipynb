{
 "cells": [
  {
   "cell_type": "code",
   "execution_count": 11,
   "id": "96be9264-a6c0-4580-859f-1933cb110834",
   "metadata": {},
   "outputs": [
    {
     "data": {
      "text/html": [
       "<div>\n",
       "<style scoped>\n",
       "    .dataframe tbody tr th:only-of-type {\n",
       "        vertical-align: middle;\n",
       "    }\n",
       "\n",
       "    .dataframe tbody tr th {\n",
       "        vertical-align: top;\n",
       "    }\n",
       "\n",
       "    .dataframe thead th {\n",
       "        text-align: right;\n",
       "    }\n",
       "</style>\n",
       "<table border=\"1\" class=\"dataframe\">\n",
       "  <thead>\n",
       "    <tr style=\"text-align: right;\">\n",
       "      <th></th>\n",
       "      <th>TV</th>\n",
       "      <th>Sales</th>\n",
       "    </tr>\n",
       "  </thead>\n",
       "  <tbody>\n",
       "    <tr>\n",
       "      <th>0</th>\n",
       "      <td>230.1</td>\n",
       "      <td>22.1</td>\n",
       "    </tr>\n",
       "    <tr>\n",
       "      <th>1</th>\n",
       "      <td>44.5</td>\n",
       "      <td>10.4</td>\n",
       "    </tr>\n",
       "    <tr>\n",
       "      <th>2</th>\n",
       "      <td>17.2</td>\n",
       "      <td>9.3</td>\n",
       "    </tr>\n",
       "    <tr>\n",
       "      <th>3</th>\n",
       "      <td>151.5</td>\n",
       "      <td>18.5</td>\n",
       "    </tr>\n",
       "    <tr>\n",
       "      <th>4</th>\n",
       "      <td>180.8</td>\n",
       "      <td>12.9</td>\n",
       "    </tr>\n",
       "    <tr>\n",
       "      <th>...</th>\n",
       "      <td>...</td>\n",
       "      <td>...</td>\n",
       "    </tr>\n",
       "    <tr>\n",
       "      <th>195</th>\n",
       "      <td>38.2</td>\n",
       "      <td>7.6</td>\n",
       "    </tr>\n",
       "    <tr>\n",
       "      <th>196</th>\n",
       "      <td>94.2</td>\n",
       "      <td>9.7</td>\n",
       "    </tr>\n",
       "    <tr>\n",
       "      <th>197</th>\n",
       "      <td>177.0</td>\n",
       "      <td>12.8</td>\n",
       "    </tr>\n",
       "    <tr>\n",
       "      <th>198</th>\n",
       "      <td>283.6</td>\n",
       "      <td>25.5</td>\n",
       "    </tr>\n",
       "    <tr>\n",
       "      <th>199</th>\n",
       "      <td>232.1</td>\n",
       "      <td>13.4</td>\n",
       "    </tr>\n",
       "  </tbody>\n",
       "</table>\n",
       "<p>200 rows × 2 columns</p>\n",
       "</div>"
      ],
      "text/plain": [
       "        TV  Sales\n",
       "0    230.1   22.1\n",
       "1     44.5   10.4\n",
       "2     17.2    9.3\n",
       "3    151.5   18.5\n",
       "4    180.8   12.9\n",
       "..     ...    ...\n",
       "195   38.2    7.6\n",
       "196   94.2    9.7\n",
       "197  177.0   12.8\n",
       "198  283.6   25.5\n",
       "199  232.1   13.4\n",
       "\n",
       "[200 rows x 2 columns]"
      ]
     },
     "execution_count": 11,
     "metadata": {},
     "output_type": "execute_result"
    }
   ],
   "source": [
    "import numpy as np\n",
    "import pandas as pd\n",
    "tv = pd.read_csv(\"tvmarketing.csv\")\n",
    "tv\n",
    "    "
   ]
  },
  {
   "cell_type": "code",
   "execution_count": 14,
   "id": "1576bbc2-f637-4352-ab4a-41cd77ed8339",
   "metadata": {},
   "outputs": [
    {
     "data": {
      "text/html": [
       "<div>\n",
       "<style scoped>\n",
       "    .dataframe tbody tr th:only-of-type {\n",
       "        vertical-align: middle;\n",
       "    }\n",
       "\n",
       "    .dataframe tbody tr th {\n",
       "        vertical-align: top;\n",
       "    }\n",
       "\n",
       "    .dataframe thead th {\n",
       "        text-align: right;\n",
       "    }\n",
       "</style>\n",
       "<table border=\"1\" class=\"dataframe\">\n",
       "  <thead>\n",
       "    <tr style=\"text-align: right;\">\n",
       "      <th></th>\n",
       "      <th>TV</th>\n",
       "      <th>Sales</th>\n",
       "    </tr>\n",
       "  </thead>\n",
       "  <tbody>\n",
       "    <tr>\n",
       "      <th>0</th>\n",
       "      <td>230.1</td>\n",
       "      <td>22.1</td>\n",
       "    </tr>\n",
       "    <tr>\n",
       "      <th>1</th>\n",
       "      <td>44.5</td>\n",
       "      <td>10.4</td>\n",
       "    </tr>\n",
       "    <tr>\n",
       "      <th>2</th>\n",
       "      <td>17.2</td>\n",
       "      <td>9.3</td>\n",
       "    </tr>\n",
       "    <tr>\n",
       "      <th>3</th>\n",
       "      <td>151.5</td>\n",
       "      <td>18.5</td>\n",
       "    </tr>\n",
       "    <tr>\n",
       "      <th>4</th>\n",
       "      <td>180.8</td>\n",
       "      <td>12.9</td>\n",
       "    </tr>\n",
       "  </tbody>\n",
       "</table>\n",
       "</div>"
      ],
      "text/plain": [
       "      TV  Sales\n",
       "0  230.1   22.1\n",
       "1   44.5   10.4\n",
       "2   17.2    9.3\n",
       "3  151.5   18.5\n",
       "4  180.8   12.9"
      ]
     },
     "execution_count": 14,
     "metadata": {},
     "output_type": "execute_result"
    }
   ],
   "source": [
    "#1. Import dataset and display first 5 rows\n",
    "import numpy as np\n",
    "import pandas as pd\n",
    "tv = pd.read_csv(\"tvmarketing.csv\")\n",
    "tv.head(5)\n",
    "    "
   ]
  },
  {
   "cell_type": "code",
   "execution_count": 15,
   "id": "4837c9ed-f461-4c31-a7a9-fc83bde241b6",
   "metadata": {},
   "outputs": [
    {
     "data": {
      "text/plain": [
       "TV       float64\n",
       "Sales    float64\n",
       "dtype: object"
      ]
     },
     "execution_count": 15,
     "metadata": {},
     "output_type": "execute_result"
    }
   ],
   "source": [
    "# 2. Check column data types\n",
    "tv.dtypes"
   ]
  },
  {
   "cell_type": "code",
   "execution_count": 17,
   "id": "ccc896fa-b655-4eea-8378-906752543ae8",
   "metadata": {},
   "outputs": [
    {
     "data": {
      "text/plain": [
       "(200, 2)"
      ]
     },
     "execution_count": 17,
     "metadata": {},
     "output_type": "execute_result"
    }
   ],
   "source": [
    "# 3. Check the shape of the Data Frame (rows, columns)\n",
    "tv.shape"
   ]
  },
  {
   "cell_type": "code",
   "execution_count": 19,
   "id": "95ddb4bb-b8fd-41c6-8218-11a577577011",
   "metadata": {},
   "outputs": [
    {
     "data": {
      "text/html": [
       "<div>\n",
       "<style scoped>\n",
       "    .dataframe tbody tr th:only-of-type {\n",
       "        vertical-align: middle;\n",
       "    }\n",
       "\n",
       "    .dataframe tbody tr th {\n",
       "        vertical-align: top;\n",
       "    }\n",
       "\n",
       "    .dataframe thead th {\n",
       "        text-align: right;\n",
       "    }\n",
       "</style>\n",
       "<table border=\"1\" class=\"dataframe\">\n",
       "  <thead>\n",
       "    <tr style=\"text-align: right;\">\n",
       "      <th></th>\n",
       "      <th>TV</th>\n",
       "      <th>Sales</th>\n",
       "    </tr>\n",
       "  </thead>\n",
       "  <tbody>\n",
       "    <tr>\n",
       "      <th>count</th>\n",
       "      <td>200.000000</td>\n",
       "      <td>200.000000</td>\n",
       "    </tr>\n",
       "    <tr>\n",
       "      <th>mean</th>\n",
       "      <td>147.042500</td>\n",
       "      <td>14.022500</td>\n",
       "    </tr>\n",
       "    <tr>\n",
       "      <th>std</th>\n",
       "      <td>85.854236</td>\n",
       "      <td>5.217457</td>\n",
       "    </tr>\n",
       "    <tr>\n",
       "      <th>min</th>\n",
       "      <td>0.700000</td>\n",
       "      <td>1.600000</td>\n",
       "    </tr>\n",
       "    <tr>\n",
       "      <th>25%</th>\n",
       "      <td>74.375000</td>\n",
       "      <td>10.375000</td>\n",
       "    </tr>\n",
       "    <tr>\n",
       "      <th>50%</th>\n",
       "      <td>149.750000</td>\n",
       "      <td>12.900000</td>\n",
       "    </tr>\n",
       "    <tr>\n",
       "      <th>75%</th>\n",
       "      <td>218.825000</td>\n",
       "      <td>17.400000</td>\n",
       "    </tr>\n",
       "    <tr>\n",
       "      <th>max</th>\n",
       "      <td>296.400000</td>\n",
       "      <td>27.000000</td>\n",
       "    </tr>\n",
       "  </tbody>\n",
       "</table>\n",
       "</div>"
      ],
      "text/plain": [
       "               TV       Sales\n",
       "count  200.000000  200.000000\n",
       "mean   147.042500   14.022500\n",
       "std     85.854236    5.217457\n",
       "min      0.700000    1.600000\n",
       "25%     74.375000   10.375000\n",
       "50%    149.750000   12.900000\n",
       "75%    218.825000   17.400000\n",
       "max    296.400000   27.000000"
      ]
     },
     "execution_count": 19,
     "metadata": {},
     "output_type": "execute_result"
    }
   ],
   "source": [
    "# 4. Look at summary statistics \n",
    "tv.describe()"
   ]
  },
  {
   "cell_type": "code",
   "execution_count": 22,
   "id": "8c8ef425-e939-44f0-a442-cae490a67964",
   "metadata": {},
   "outputs": [
    {
     "data": {
      "image/png": "[encoded data removed]",
      "text/plain": [
       "<Figure size 640x480 with 1 Axes>"
      ]
     },
     "metadata": {},
     "output_type": "display_data"
    }
   ],
   "source": [
    "# 5. Visualize the relationship between the features and the dependent variable using scatterplots \n",
    "import matplotlib.pyplot as plt\n",
    "plt.scatter(tv['TV'],tv['Sales'])\n",
    "plt.xlabel(\"TV\")\n",
    "plt.ylabel(\"Sales\")\n",
    "plt.title(\"TV and their sales\")\n",
    "plt.show()"
   ]
  },
  {
   "cell_type": "code",
   "execution_count": 30,
   "id": "9514e43d-ec21-414d-9c5b-4e6e78821f93",
   "metadata": {},
   "outputs": [],
   "source": [
    "# 6. Prepare X (feature variables) and y (response variable)\n",
    "x=tv[[\"TV\"]]\n",
    "y=tv[\"Sales\"]"
   ]
  },
  {
   "cell_type": "code",
   "execution_count": 31,
   "id": "81190ce9-a2da-41d7-9db6-7cc1b3219297",
   "metadata": {},
   "outputs": [],
   "source": [
    "# 7. Split Data into Training and Testing Sets (70%-Train 30%-Test) - X_train, y_train, X_test, y_test \n",
    "from sklearn.model_selection import train_test_split\n",
    "x_train, x_test, y_train, y_test = train_test_split(x, y, test_size=0.3)"
   ]
  },
  {
   "cell_type": "code",
   "execution_count": 32,
   "id": "d1a5bbd7-ff4a-4626-b340-19f3b5480751",
   "metadata": {},
   "outputs": [
    {
     "name": "stdout",
     "output_type": "stream",
     "text": [
      "Shape of train data:  (140, 1) (140,)\n",
      "Shape of test data:  (60, 1) (60,)\n"
     ]
    }
   ],
   "source": [
    "# 8. Print the shape of train data and test data\n",
    "print(\"Shape of train data: \",x_train.shape,y_train.shape)\n",
    "print(\"Shape of test data: \",x_test.shape,y_test.shape)"
   ]
  },
  {
   "cell_type": "code",
   "execution_count": 44,
   "id": "dbd96e1f-c16e-4585-9e24-fb77bd34c610",
   "metadata": {},
   "outputs": [
    {
     "name": "stdout",
     "output_type": "stream",
     "text": [
      "TV    0.04649\n",
      "dtype: float64\n"
     ]
    }
   ],
   "source": [
    "# 9. Perform Linear Regression (on train data) without using any library and print the coefficients values\n",
    "from sklearn.linear_model import LinearRegression\n",
    "# x_train_np = np.c_[np.ones(x_train.shape[0]), x_train] \n",
    "x_mean = x_train.mean()\n",
    "y_mean = y_train.mean()\n",
    "\n",
    "x_train_np = np.array(x_train)\n",
    "y_train_np = np.array(y_train)\n",
    "n=len(x_train_np)\n",
    "\n",
    "\n",
    "# for numerator\n",
    "numerator = 0\n",
    "for i in range(n):\n",
    "    numerator += ((x_train_np[i]-x_mean)*(y_train_np[i]-y_mean))\n",
    "# print(\"Numerator: \",numerator)\n",
    "\n",
    "#for denominator\n",
    "denominator = 0\n",
    "for i in range(n):\n",
    "    denominator += ((x_train_np[i]-x_mean)**2)\n",
    "# print(\"Denominator: \",denominator)\n",
    "\n",
    "theta1 = numerator/denominator\n",
    "print(theta1)\n",
    "\n",
    "# theta = np.linalg.inv(x_train_np.T @ x_train_np) @ x_train_np.T @ y_train\n",
    "# print(\"Coefficients values:\", theta)\n"
   ]
  },
  {
   "cell_type": "code",
   "execution_count": null,
   "id": "ac9f963f-5a2b-44e4-a77b-80bb8803d274",
   "metadata": {},
   "outputs": [],
   "source": [
    "# 10. Create the model using the calculated coefficients and make predictions on the testing set \n"
   ]
  },
  {
   "cell_type": "code",
   "execution_count": null,
   "id": "5f1077a8-d3a3-4435-9ea3-3b76ee90e0cd",
   "metadata": {},
   "outputs": [],
   "source": [
    "import pandas as pd\n",
    "import numpy as np\n",
    "import matplotlib.pyplot as plt\n",
    "from sklearn.model_selection import train_test_split\n",
    "from sklearn.linear_model import LinearRegression\n",
    "from sklearn.metrics import mean_squared_error, r2_score\n",
    "\n",
    "# 1. Import dataset and display first 5 rows\n",
    "df = pd.read_csv('tvmarketing.csv')\n",
    "print(df.head())\n",
    "\n",
    "# 2. Check column data types\n",
    "print(df.dtypes)\n",
    "\n",
    "# 3. Check the shape of the Data Frame (rows, columns)\n",
    "print(\"Shape of DataFrame:\", df.shape)\n",
    "\n",
    "# 4. Look at summary statistics\n",
    "print(df.describe())\n",
    "\n",
    "# 5. Visualize the relationship using scatterplot\n",
    "plt.scatter(df['TV'], df['Sales'])\n",
    "plt.xlabel('TV Marketing Budget')\n",
    "plt.ylabel('Sales')\n",
    "plt.title('TV Marketing Budget vs Sales')\n",
    "plt.show()\n",
    "\n",
    "# 6. Prepare X (feature variable) and y (response variable)\n",
    "X = df[['TV']]\n",
    "y = df['Sales']\n",
    "\n",
    "# 7. Split Data into Training and Testing Sets (70%-Train, 30%-Test)\n",
    "X_train, X_test, y_train, y_test = train_test_split(X, y, test_size=0.3, random_state=42)\n",
    "\n",
    "# 8. Print the shape of train and test data\n",
    "print(\"Train Data Shape:\", X_train.shape, y_train.shape)\n",
    "print(\"Test Data Shape:\", X_test.shape, y_test.shape)\n",
    "\n",
    "# 9. Perform Linear Regression manually\n",
    "X_train_np = np.c_[np.ones(X_train.shape[0]), X_train]  # Add intercept term\n",
    "theta = np.linalg.inv(X_train_np.T @ X_train_np) @ X_train_np.T @ y_train\n",
    "print(\"Manual Regression Coefficients:\", theta)\n",
    "\n",
    "# 10. Predict on testing set using manual coefficients\n",
    "X_test_np = np.c_[np.ones(X_test.shape[0]), X_test]\n",
    "y_pred_manual = X_test_np @ theta\n",
    "\n",
    "# 11. Perform Linear Regression using sklearn\n",
    "lr = LinearRegression()\n",
    "lr.fit(X_train, y_train)\n",
    "\n",
    "# 12. Print intercept and coefficients\n",
    "print(\"Intercept:\", lr.intercept_)\n",
    "print(\"Coefficient:\", lr.coef_[0])\n",
    "\n",
    "# 13. Make predictions on the testing set\n",
    "y_pred_sklearn = lr.predict(X_test)\n",
    "\n",
    "# 14. Plot train data and model\n",
    "plt.scatter(X_train, y_train, color='blue', label=\"Train Data\")\n",
    "plt.plot(X_train, lr.predict(X_train), color='red', label=\"Regression Line\")\n",
    "plt.xlabel('TV Marketing Budget')\n",
    "plt.ylabel('Sales')\n",
    "plt.title('Linear Regression on Training Data')\n",
    "plt.legend()\n",
    "plt.show()\n",
    "\n",
    "# 15. Plot test data and model\n",
    "plt.scatter(X_test, y_test, color='green', label=\"Test Data\")\n",
    "plt.plot(X_test, lr.predict(X_test), color='red', label=\"Regression Line\")\n",
    "plt.xlabel('TV Marketing Budget')\n",
    "plt.ylabel('Sales')\n",
    "plt.title('Linear Regression on Testing Data')\n",
    "plt.legend()\n",
    "plt.show()\n",
    "\n",
    "# 16. Print Mean Squared Error and R Squared Value\n",
    "mse = mean_squared_error(y_test, y_pred_sklearn)\n",
    "r2 = r2_score(y_test, y_pred_sklearn)\n",
    "print(\"Mean Squared Error:\", mse)\n",
    "print(\"R-Squared Value:\", r2)\n",
    "\n",
    "# 17. Calculate and print R Squared and Adjusted R Squared manually\n",
    "n = X_test.shape[0]\n",
    "p = X_test.shape[1]\n",
    "adj_r2 = 1 - ((1 - r2) * (n - 1) / (n - p - 1))\n",
    "print(\"Adjusted R-Squared Value:\", adj_r2)\n"
   ]
  }
 ],
 "metadata": {
  "kernelspec": {
   "display_name": "Python 3 (ipykernel)",
   "language": "python",
   "name": "python3"
  },
  "language_info": {
   "codemirror_mode": {
    "name": "ipython",
    "version": 3
   },
   "file_extension": ".py",
   "mimetype": "text/x-python",
   "name": "python",
   "nbconvert_exporter": "python",
   "pygments_lexer": "ipython3",
   "version": "3.11.7"
  }
 },
 "nbformat": 4,
 "nbformat_minor": 5
}
